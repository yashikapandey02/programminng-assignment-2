{
 "cells": [
  {
   "cell_type": "code",
   "execution_count": null,
   "id": "4fb6cfc7",
   "metadata": {},
   "outputs": [],
   "source": [
    "1.Write a Python program to convert kilometers to miles?\n",
    "Ans:"
   ]
  },
  {
   "cell_type": "code",
   "execution_count": 2,
   "id": "8464bf3d",
   "metadata": {},
   "outputs": [
    {
     "name": "stdout",
     "output_type": "stream",
     "text": [
      "length in miles is 496.8\n"
     ]
    }
   ],
   "source": [
    "kms=int(input(\"Enter number in kms\"))\n",
    "miles=kms*0.621\n",
    "print(\"length in miles is\", miles)\n"
   ]
  },
  {
   "cell_type": "code",
   "execution_count": null,
   "id": "96b129c7",
   "metadata": {},
   "outputs": [],
   "source": [
    "2.Write a Python program to convert Celsius to Fahrenheit?\n",
    "Ans:"
   ]
  },
  {
   "cell_type": "code",
   "execution_count": 2,
   "id": "f8e4fb6a",
   "metadata": {},
   "outputs": [
    {
     "name": "stdout",
     "output_type": "stream",
     "text": [
      "Enter temperature in celsius34.5\n",
      "temperature in Fahrenheit is 94.1\n"
     ]
    }
   ],
   "source": [
    "celsius=float(input(\"Enter temperature in celsius\"))\n",
    "Fahrenheit=(celsius* 1.8)+32\n",
    "print(\"temperature in Fahrenheit is\", Fahrenheit)"
   ]
  },
  {
   "cell_type": "code",
   "execution_count": null,
   "id": "1556a2d1",
   "metadata": {},
   "outputs": [],
   "source": [
    "3.Write a Python program to display calendar?\n",
    "Ans:"
   ]
  },
  {
   "cell_type": "code",
   "execution_count": 25,
   "id": "d859d680",
   "metadata": {},
   "outputs": [
    {
     "name": "stdout",
     "output_type": "stream",
     "text": [
      "                                                                                                                                           2022\n",
      "\n",
      "                                         January                                                                                         February                                                                                         March\n",
      "   Monday      Tuesday     Wednesday     Thursday      Friday      Saturday      Sunday            Monday      Tuesday     Wednesday     Thursday      Friday      Saturday      Sunday            Monday      Tuesday     Wednesday     Thursday      Friday      Saturday      Sunday\n",
      "                                                                       1            2                              1            2            3            4            5            6                              1            2            3            4            5            6\n",
      "      3            4            5            6            7            8            9                 7            8            9           10           11           12           13                 7            8            9           10           11           12           13\n",
      "     10           11           12           13           14           15           16                14           15           16           17           18           19           20                14           15           16           17           18           19           20\n",
      "     17           18           19           20           21           22           23                21           22           23           24           25           26           27                21           22           23           24           25           26           27\n",
      "     24           25           26           27           28           29           30                28                                                                                              28           29           30           31\n",
      "     31\n",
      "\n",
      "                                          April                                                                                            May                                                                                             June\n",
      "   Monday      Tuesday     Wednesday     Thursday      Friday      Saturday      Sunday            Monday      Tuesday     Wednesday     Thursday      Friday      Saturday      Sunday            Monday      Tuesday     Wednesday     Thursday      Friday      Saturday      Sunday\n",
      "                                                          1            2            3                                                                                               1                                           1            2            3            4            5\n",
      "      4            5            6            7            8            9           10                 2            3            4            5            6            7            8                 6            7            8            9           10           11           12\n",
      "     11           12           13           14           15           16           17                 9           10           11           12           13           14           15                13           14           15           16           17           18           19\n",
      "     18           19           20           21           22           23           24                16           17           18           19           20           21           22                20           21           22           23           24           25           26\n",
      "     25           26           27           28           29           30                             23           24           25           26           27           28           29                27           28           29           30\n",
      "                                                                                                     30           31\n",
      "\n",
      "                                           July                                                                                           August                                                                                        September\n",
      "   Monday      Tuesday     Wednesday     Thursday      Friday      Saturday      Sunday            Monday      Tuesday     Wednesday     Thursday      Friday      Saturday      Sunday            Monday      Tuesday     Wednesday     Thursday      Friday      Saturday      Sunday\n",
      "                                                          1            2            3                 1            2            3            4            5            6            7                                                        1            2            3            4\n",
      "      4            5            6            7            8            9           10                 8            9           10           11           12           13           14                 5            6            7            8            9           10           11\n",
      "     11           12           13           14           15           16           17                15           16           17           18           19           20           21                12           13           14           15           16           17           18\n",
      "     18           19           20           21           22           23           24                22           23           24           25           26           27           28                19           20           21           22           23           24           25\n",
      "     25           26           27           28           29           30           31                29           30           31                                                                    26           27           28           29           30\n",
      "\n",
      "                                         October                                                                                         November                                                                                        December\n",
      "   Monday      Tuesday     Wednesday     Thursday      Friday      Saturday      Sunday            Monday      Tuesday     Wednesday     Thursday      Friday      Saturday      Sunday            Monday      Tuesday     Wednesday     Thursday      Friday      Saturday      Sunday\n",
      "                                                                       1            2                              1            2            3            4            5            6                                                        1            2            3            4\n",
      "      3            4            5            6            7            8            9                 7            8            9           10           11           12           13                 5            6            7            8            9           10           11\n",
      "     10           11           12           13           14           15           16                14           15           16           17           18           19           20                12           13           14           15           16           17           18\n",
      "     17           18           19           20           21           22           23                21           22           23           24           25           26           27                19           20           21           22           23           24           25\n",
      "     24           25           26           27           28           29           30                28           29           30                                                                    26           27           28           29           30           31\n",
      "     31\n",
      "\n"
     ]
    }
   ],
   "source": [
    "import calendar\n",
    "yy= 2022\n",
    "mm= 12\n",
    "print((calendar.calendar(yy, mm)))"
   ]
  },
  {
   "cell_type": "code",
   "execution_count": null,
   "id": "17ba23ad",
   "metadata": {},
   "outputs": [],
   "source": [
    "4- Write a Python program to solve quadratic equation?\n",
    "Ans:"
   ]
  },
  {
   "cell_type": "code",
   "execution_count": 26,
   "id": "2322e330",
   "metadata": {},
   "outputs": [
    {
     "name": "stdout",
     "output_type": "stream",
     "text": [
      "Enter the value of a: 1\n",
      "Enter the value of b: 2\n",
      "Enter the value of c: 1\n",
      "Two equal and real roots are -1.00 and -1.00\n"
     ]
    }
   ],
   "source": [
    "a = int(input('Enter the value of a: '))\n",
    "b = int(input('Enter the value of b: '))\n",
    "c = int(input('Enter the value of c: '))\n",
    "\n",
    "# calculate discriminant\n",
    "dis = (b**2) - (4*a*c)\n",
    "\n",
    "# checking condition for discriminant\n",
    "if(dis > 0):\n",
    "    root1 = (-b + math.sqrt(dis) / (2 * a))\n",
    "    root2 = (-b - math.sqrt(dis) / (2 * a))\n",
    "    print(\"Two distinct real roots are %.2f and %.2f\" %(root1, root2))\n",
    "\n",
    "elif(dis == 0):\n",
    "    root1 = root2 = -b / (2 * a)\n",
    "    print(\"Two equal and real roots are %.2f and %.2f\" %(root1, root2))\n",
    "\n",
    "elif(dis < 0):\n",
    "    root1 = root2 = -b / (2 * a)\n",
    "    imaginary = math.sqrt(-dis) / (2 * a)\n",
    "    print(\"Two distinct complex roots are %.2f+%.2f and %.2f-%.2f\" \n",
    "                          %(root1, imaginary, root2, imaginary))"
   ]
  },
  {
   "cell_type": "code",
   "execution_count": null,
   "id": "40517b6f",
   "metadata": {},
   "outputs": [],
   "source": [
    "5-Write a Python program to swap two variables without temp variable?\n",
    "Ans"
   ]
  },
  {
   "cell_type": "code",
   "execution_count": 29,
   "id": "891e6d5f",
   "metadata": {},
   "outputs": [
    {
     "name": "stdout",
     "output_type": "stream",
     "text": [
      "Enter the value of x: 10\n",
      "Enter the value of y: 15\n",
      "Before swapping: \n",
      "Value of x :  10  and y :  15\n",
      "After swapping: \n",
      "Value of x :  15  and y :  10\n"
     ]
    }
   ],
   "source": [
    "x= int(input('Enter the value of x: '))\n",
    "y= int(input('Enter the value of y: '))\n",
    "print (\"Before swapping: \")\n",
    "print(\"Value of x : \", x, \" and y : \", y)\n",
    " \n",
    "# code to swap 'x' and 'y'\n",
    "x, y = y, x\n",
    " \n",
    "print (\"After swapping: \")\n",
    "print(\"Value of x : \", x, \" and y : \", y)"
   ]
  },
  {
   "cell_type": "code",
   "execution_count": null,
   "id": "ae608e35",
   "metadata": {},
   "outputs": [],
   "source": []
  }
 ],
 "metadata": {
  "kernelspec": {
   "display_name": "Python 3 (ipykernel)",
   "language": "python",
   "name": "python3"
  },
  "language_info": {
   "codemirror_mode": {
    "name": "ipython",
    "version": 3
   },
   "file_extension": ".py",
   "mimetype": "text/x-python",
   "name": "python",
   "nbconvert_exporter": "python",
   "pygments_lexer": "ipython3",
   "version": "3.9.7"
  }
 },
 "nbformat": 4,
 "nbformat_minor": 5
}
